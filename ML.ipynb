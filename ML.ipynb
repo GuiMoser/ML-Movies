{
 "cells": [
  {
   "cell_type": "markdown",
   "metadata": {},
   "source": [
    "### Import Libraries"
   ]
  },
  {
   "cell_type": "code",
   "execution_count": 6,
   "metadata": {},
   "outputs": [],
   "source": [
    "import pandas as pd"
   ]
  },
  {
   "cell_type": "markdown",
   "metadata": {},
   "source": [
    "### Reading Dataset"
   ]
  },
  {
   "cell_type": "code",
   "execution_count": 7,
   "metadata": {},
   "outputs": [],
   "source": [
    "df = pd.read_csv('imdb_data.csv')"
   ]
  },
  {
   "cell_type": "markdown",
   "metadata": {},
   "source": [
    "### EDA"
   ]
  },
  {
   "cell_type": "code",
   "execution_count": 4,
   "metadata": {},
   "outputs": [
    {
     "name": "stdout",
     "output_type": "stream",
     "text": [
      "<class 'pandas.core.frame.DataFrame'>\n",
      "RangeIndex: 3348 entries, 0 to 3347\n",
      "Data columns (total 12 columns):\n",
      " #   Column          Non-Null Count  Dtype  \n",
      "---  ------          --------------  -----  \n",
      " 0   id              3348 non-null   object \n",
      " 1   primaryTitle    3348 non-null   object \n",
      " 2   originalTitle   3348 non-null   object \n",
      " 3   isAdult         3348 non-null   int64  \n",
      " 4   runtimeMinutes  3348 non-null   int64  \n",
      " 5   genres          3348 non-null   object \n",
      " 6   averageRating   3348 non-null   float64\n",
      " 7   numVotes        3348 non-null   int64  \n",
      " 8   budget          3348 non-null   int64  \n",
      " 9   gross           3297 non-null   float64\n",
      " 10  release_date    3343 non-null   object \n",
      " 11  directors       3348 non-null   object \n",
      "dtypes: float64(2), int64(4), object(6)\n",
      "memory usage: 314.0+ KB\n"
     ]
    }
   ],
   "source": [
    "df.info()"
   ]
  },
  {
   "cell_type": "code",
   "execution_count": 5,
   "metadata": {},
   "outputs": [
    {
     "data": {
      "text/html": [
       "<div>\n",
       "<style scoped>\n",
       "    .dataframe tbody tr th:only-of-type {\n",
       "        vertical-align: middle;\n",
       "    }\n",
       "\n",
       "    .dataframe tbody tr th {\n",
       "        vertical-align: top;\n",
       "    }\n",
       "\n",
       "    .dataframe thead th {\n",
       "        text-align: right;\n",
       "    }\n",
       "</style>\n",
       "<table border=\"1\" class=\"dataframe\">\n",
       "  <thead>\n",
       "    <tr style=\"text-align: right;\">\n",
       "      <th></th>\n",
       "      <th>id</th>\n",
       "      <th>primaryTitle</th>\n",
       "      <th>originalTitle</th>\n",
       "      <th>isAdult</th>\n",
       "      <th>runtimeMinutes</th>\n",
       "      <th>genres</th>\n",
       "      <th>averageRating</th>\n",
       "      <th>numVotes</th>\n",
       "      <th>budget</th>\n",
       "      <th>gross</th>\n",
       "      <th>release_date</th>\n",
       "      <th>directors</th>\n",
       "    </tr>\n",
       "  </thead>\n",
       "  <tbody>\n",
       "    <tr>\n",
       "      <th>0</th>\n",
       "      <td>tt0035423</td>\n",
       "      <td>Kate &amp; Leopold</td>\n",
       "      <td>Kate &amp; Leopold</td>\n",
       "      <td>0</td>\n",
       "      <td>118</td>\n",
       "      <td>Comedy,Fantasy,Romance</td>\n",
       "      <td>6.4</td>\n",
       "      <td>87925</td>\n",
       "      <td>48000000</td>\n",
       "      <td>76019048.0</td>\n",
       "      <td>December 11, 2001</td>\n",
       "      <td>James Mangold</td>\n",
       "    </tr>\n",
       "    <tr>\n",
       "      <th>1</th>\n",
       "      <td>tt0065421</td>\n",
       "      <td>The Aristocats</td>\n",
       "      <td>The AristoCats</td>\n",
       "      <td>0</td>\n",
       "      <td>78</td>\n",
       "      <td>Adventure,Animation,Comedy</td>\n",
       "      <td>7.1</td>\n",
       "      <td>111758</td>\n",
       "      <td>4000000</td>\n",
       "      <td>35459543.0</td>\n",
       "      <td>December 11, 1970</td>\n",
       "      <td>Wolfgang Reitherman</td>\n",
       "    </tr>\n",
       "    <tr>\n",
       "      <th>2</th>\n",
       "      <td>tt0065938</td>\n",
       "      <td>Kelly's Heroes</td>\n",
       "      <td>Kelly's Heroes</td>\n",
       "      <td>0</td>\n",
       "      <td>144</td>\n",
       "      <td>Adventure,Comedy,War</td>\n",
       "      <td>7.6</td>\n",
       "      <td>52628</td>\n",
       "      <td>4000000</td>\n",
       "      <td>5200000.0</td>\n",
       "      <td>January 1, 1970</td>\n",
       "      <td>Brian G. Hutton</td>\n",
       "    </tr>\n",
       "    <tr>\n",
       "      <th>3</th>\n",
       "      <td>tt0066026</td>\n",
       "      <td>M*A*S*H</td>\n",
       "      <td>M*A*S*H</td>\n",
       "      <td>0</td>\n",
       "      <td>116</td>\n",
       "      <td>Comedy,Drama,War</td>\n",
       "      <td>7.4</td>\n",
       "      <td>75784</td>\n",
       "      <td>3500000</td>\n",
       "      <td>81600000.0</td>\n",
       "      <td>January 25, 1970</td>\n",
       "      <td>Robert Altman</td>\n",
       "    </tr>\n",
       "    <tr>\n",
       "      <th>4</th>\n",
       "      <td>tt0066206</td>\n",
       "      <td>Patton</td>\n",
       "      <td>Patton</td>\n",
       "      <td>0</td>\n",
       "      <td>172</td>\n",
       "      <td>Biography,Drama,War</td>\n",
       "      <td>7.9</td>\n",
       "      <td>106476</td>\n",
       "      <td>12000000</td>\n",
       "      <td>61749765.0</td>\n",
       "      <td>February 4, 1970</td>\n",
       "      <td>Franklin J. Schaffner</td>\n",
       "    </tr>\n",
       "  </tbody>\n",
       "</table>\n",
       "</div>"
      ],
      "text/plain": [
       "          id    primaryTitle   originalTitle  isAdult  runtimeMinutes  \\\n",
       "0  tt0035423  Kate & Leopold  Kate & Leopold        0             118   \n",
       "1  tt0065421  The Aristocats  The AristoCats        0              78   \n",
       "2  tt0065938  Kelly's Heroes  Kelly's Heroes        0             144   \n",
       "3  tt0066026         M*A*S*H         M*A*S*H        0             116   \n",
       "4  tt0066206          Patton          Patton        0             172   \n",
       "\n",
       "                       genres  averageRating  numVotes    budget       gross  \\\n",
       "0      Comedy,Fantasy,Romance            6.4     87925  48000000  76019048.0   \n",
       "1  Adventure,Animation,Comedy            7.1    111758   4000000  35459543.0   \n",
       "2        Adventure,Comedy,War            7.6     52628   4000000   5200000.0   \n",
       "3            Comedy,Drama,War            7.4     75784   3500000  81600000.0   \n",
       "4         Biography,Drama,War            7.9    106476  12000000  61749765.0   \n",
       "\n",
       "        release_date              directors  \n",
       "0  December 11, 2001          James Mangold  \n",
       "1  December 11, 1970    Wolfgang Reitherman  \n",
       "2    January 1, 1970        Brian G. Hutton  \n",
       "3   January 25, 1970          Robert Altman  \n",
       "4   February 4, 1970  Franklin J. Schaffner  "
      ]
     },
     "execution_count": 5,
     "metadata": {},
     "output_type": "execute_result"
    }
   ],
   "source": [
    "df.head()"
   ]
  },
  {
   "cell_type": "code",
   "execution_count": null,
   "metadata": {},
   "outputs": [],
   "source": []
  }
 ],
 "metadata": {
  "kernelspec": {
   "display_name": "venv",
   "language": "python",
   "name": "python3"
  },
  "language_info": {
   "codemirror_mode": {
    "name": "ipython",
    "version": 3
   },
   "file_extension": ".py",
   "mimetype": "text/x-python",
   "name": "python",
   "nbconvert_exporter": "python",
   "pygments_lexer": "ipython3",
   "version": "3.12.3"
  }
 },
 "nbformat": 4,
 "nbformat_minor": 2
}
